{
 "cells": [
  {
   "cell_type": "code",
   "execution_count": null,
   "metadata": {},
   "outputs": [],
   "source": [
    "import torch\n",
    "import torch.nn as nn\n",
    "import torch.optim as optim\n",
    "import sklearn.model_selection as split\n",
    "import numpy as np\n",
    "from torch.utils.data import DataLoader\n",
    "import matplotlib.pyplot as plt\n",
    "import math\n",
    "from datetime import datetime\n",
    "import sklearn.model_selection as ms\n",
    "import matplotlib.pyplot as plt\n",
    "from scipy.optimize import curve_fit\n",
    "from utils import *\n",
    "from models import *\n",
    "\n",
    "np.random.seed(0)\n",
    "torch.manual_seed(0)"
   ]
  },
  {
   "cell_type": "code",
   "execution_count": null,
   "metadata": {},
   "outputs": [],
   "source": [
    "# for non-sinusoidal shape:  'H:/Simulation_aperiodic/230609 results/\n",
    "fs = 200\n",
    "t_len = 10\n",
    "data_len = fs*t_len\n",
    "\n",
    "# fpath = 'D:/PINN_NONOS/aperiodic/Experiment_simulation_v0j/'\n",
    "fpath = '/home/bcc/Documents/sample/'\n",
    "fname = 'results'\n",
    "num_gpus = 4 # the number of gpus used for training\n",
    "inputs_R, inputs_fits, input_x, labels, output_x_ap, ap_guides = load_results(fpath, fname, data_len)\n",
    "\n",
    "output_x_p = input_x - output_x_ap"
   ]
  },
  {
   "cell_type": "code",
   "execution_count": null,
   "metadata": {},
   "outputs": [],
   "source": [
    "data_idx_to_plot = 22\n",
    "\n",
    "# plot the data\n",
    "plt.figure(figsize=(6, 4))\n",
    "plt.plot(input_x[data_idx_to_plot, :], label='input', color='gray')\n",
    "plt.plot(output_x_ap[data_idx_to_plot, :], label='Non-oscillation', color='blue')\n",
    "plt.plot(output_x_p[data_idx_to_plot, :], label='Oscillation', color='orange')\n",
    "plt.legend()"
   ]
  }
 ],
 "metadata": {
  "kernelspec": {
   "display_name": "torch",
   "language": "python",
   "name": "python3"
  },
  "language_info": {
   "name": "python",
   "version": "3.12.3"
  }
 },
 "nbformat": 4,
 "nbformat_minor": 2
}
